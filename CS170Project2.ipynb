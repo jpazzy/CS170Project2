{
 "cells": [
  {
   "cell_type": "code",
   "execution_count": 4,
   "metadata": {},
   "outputs": [],
   "source": [
    "import numpy as np"
   ]
  },
  {
   "cell_type": "code",
   "execution_count": 5,
   "metadata": {},
   "outputs": [],
   "source": [
    "def leaveOneOutCrossValidation(data, current_set, feature_to_add):\n",
    "    for i in range(len(data[0])-1):\n",
    "        objectToClassify = data[1:]\n",
    "        labelObjectToClassify = data[i][0]\n",
    "        \n",
    "        \n",
    "        \n",
    "    return 5"
   ]
  },
  {
   "cell_type": "code",
   "execution_count": 15,
   "metadata": {},
   "outputs": [],
   "source": [
    "def featureSearch(data):\n",
    "    currentSet = []\n",
    "    for i in range(len(data[0])-1):\n",
    "        print(\"On the \" + str(i+1) + \"th level of the search tree!\")\n",
    "        \n",
    "        featureToAdd = []\n",
    "        bestAccuracySoFar = 0\n",
    "        for j in range(len(data[0])-1):\n",
    "            if j not in currentSet:\n",
    "                print(\"---Considering adding the \" + str(j+1) + \"th feature\")\n",
    "                accuracy = leaveOneOutCrossValidation(data, currentSet, j)\n",
    "                if accuracy > bestAccuracySoFar:\n",
    "                    bestAccuracySoFar = accuracy\n",
    "                    featureToAdd += j"
   ]
  },
  {
   "cell_type": "code",
   "execution_count": 25,
   "metadata": {},
   "outputs": [],
   "source": [
    "\n",
    "arr = np.loadtxt(\"CS170_Small_Data__96.txt\")"
   ]
  },
  {
   "cell_type": "code",
   "execution_count": 26,
   "metadata": {},
   "outputs": [
    {
     "name": "stdout",
     "output_type": "stream",
     "text": [
      "On the 1th level of the search tree!\n",
      "---Considering add the 1th feature\n",
      "---Considering add the 2th feature\n",
      "---Considering add the 3th feature\n",
      "---Considering add the 4th feature\n",
      "---Considering add the 5th feature\n",
      "---Considering add the 6th feature\n",
      "On the 2th level of the search tree!\n",
      "---Considering add the 1th feature\n",
      "---Considering add the 2th feature\n",
      "---Considering add the 3th feature\n",
      "---Considering add the 4th feature\n",
      "---Considering add the 5th feature\n",
      "---Considering add the 6th feature\n",
      "On the 3th level of the search tree!\n",
      "---Considering add the 1th feature\n",
      "---Considering add the 2th feature\n",
      "---Considering add the 3th feature\n",
      "---Considering add the 4th feature\n",
      "---Considering add the 5th feature\n",
      "---Considering add the 6th feature\n",
      "On the 4th level of the search tree!\n",
      "---Considering add the 1th feature\n",
      "---Considering add the 2th feature\n",
      "---Considering add the 3th feature\n",
      "---Considering add the 4th feature\n",
      "---Considering add the 5th feature\n",
      "---Considering add the 6th feature\n",
      "On the 5th level of the search tree!\n",
      "---Considering add the 1th feature\n",
      "---Considering add the 2th feature\n",
      "---Considering add the 3th feature\n",
      "---Considering add the 4th feature\n",
      "---Considering add the 5th feature\n",
      "---Considering add the 6th feature\n",
      "On the 6th level of the search tree!\n",
      "---Considering add the 1th feature\n",
      "---Considering add the 2th feature\n",
      "---Considering add the 3th feature\n",
      "---Considering add the 4th feature\n",
      "---Considering add the 5th feature\n",
      "---Considering add the 6th feature\n"
     ]
    }
   ],
   "source": [
    "featureSearch(arr)"
   ]
  }
 ],
 "metadata": {
  "kernelspec": {
   "display_name": "Python 3.10.8 64-bit (microsoft store)",
   "language": "python",
   "name": "python3"
  },
  "language_info": {
   "codemirror_mode": {
    "name": "ipython",
    "version": 3
   },
   "file_extension": ".py",
   "mimetype": "text/x-python",
   "name": "python",
   "nbconvert_exporter": "python",
   "pygments_lexer": "ipython3",
   "version": "3.10.8"
  },
  "orig_nbformat": 4,
  "vscode": {
   "interpreter": {
    "hash": "570261371f82048913aaa696297941dca7d03b9870e8a707c6f09b55cdd21d3c"
   }
  }
 },
 "nbformat": 4,
 "nbformat_minor": 2
}
