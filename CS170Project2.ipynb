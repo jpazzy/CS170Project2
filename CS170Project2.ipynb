{
 "cells": [
  {
   "cell_type": "code",
   "execution_count": 56,
   "metadata": {},
   "outputs": [],
   "source": [
    "import numpy as np\n",
    "import math"
   ]
  },
  {
   "cell_type": "code",
   "execution_count": 57,
   "metadata": {},
   "outputs": [],
   "source": [
    "def leaveOneOutCrossValidation(_data, current_set, feature_to_add):\n",
    "    # Append new feature to add to current set\n",
    "    keptColumns = [0] + current_set +[feature_to_add] \n",
    "    # Extract only the columns which we are concered about\n",
    "    # plus the label column\n",
    "    numberCorrectlyClassified = 0\n",
    "    data = _data[:,keptColumns]\n",
    "    for i in range(len(data)):\n",
    "        objectToClassify = data[i][1:]\n",
    "        labelObjectToClassify = data[i][0]\n",
    "        nearestNeighborDistance = np.inf\n",
    "        nearestNeighborLocation = np.inf\n",
    "        nearestNeighborLabel = 0\n",
    "        \n",
    "        for j in range(len(data)):\n",
    "            if i != j:\n",
    "                distance = math.sqrt(math.pow(sum(objectToClassify - data[j][1:]),2))\n",
    "                if distance < nearestNeighborDistance:\n",
    "                    nearestNeighborDistance = distance\n",
    "                    nearestNeighborLocation = j\n",
    "                    nearestNeighborLabel = data[nearestNeighborLocation][0]\n",
    "        if labelObjectToClassify == nearestNeighborLabel:\n",
    "            numberCorrectlyClassified += 1\n",
    "            \n",
    "    return numberCorrectlyClassified / len(data)\n",
    "                           "
   ]
  },
  {
   "cell_type": "code",
   "execution_count": 58,
   "metadata": {},
   "outputs": [],
   "source": [
    "def featureSearch(data):\n",
    "    currentSet = []\n",
    "    accuracySet = []\n",
    "    for i in range(len(data[0])-1):\n",
    "        print(\"On the \" + str(i+1) + \"th level of the search tree!\")\n",
    "        \n",
    "        featureToAdd = 0\n",
    "        bestAccuracySoFar = 0\n",
    "        for j in range(len(data[0])-1):\n",
    "            if (j+1) not in currentSet:\n",
    "                print(\"---Considering adding the \" + str(j+1) + \" feature\")\n",
    "                accuracy = leaveOneOutCrossValidation(data, currentSet, j+1)\n",
    "                print(\"ACCURACY IS \"+ str(accuracy))\n",
    "                if accuracy > bestAccuracySoFar:\n",
    "                    bestAccuracySoFar = accuracy\n",
    "                    featureToAdd = j\n",
    "        print(\"Added feature \" + str(featureToAdd+1) +\" to the list!\")\n",
    "        currentSet.append(featureToAdd+1)\n",
    "        accuracySet.append([bestAccuracySoFar,currentSet.copy()])\n",
    "        \n",
    "    \n",
    "    return (accuracySet)"
   ]
  },
  {
   "cell_type": "code",
   "execution_count": 59,
   "metadata": {},
   "outputs": [],
   "source": [
    "\n",
    "arr = np.loadtxt(\"CS170_Small_Data__96.txt\")"
   ]
  },
  {
   "cell_type": "code",
   "execution_count": 60,
   "metadata": {},
   "outputs": [
    {
     "name": "stdout",
     "output_type": "stream",
     "text": [
      "On the 1th level of the search tree!\n",
      "---Considering adding the 1 feature\n",
      "ACCURACY IS 0.874\n",
      "---Considering adding the 2 feature\n",
      "ACCURACY IS 0.682\n",
      "---Considering adding the 3 feature\n",
      "ACCURACY IS 0.734\n",
      "---Considering adding the 4 feature\n",
      "ACCURACY IS 0.718\n",
      "---Considering adding the 5 feature\n",
      "ACCURACY IS 0.672\n",
      "---Considering adding the 6 feature\n",
      "ACCURACY IS 0.746\n",
      "Added feature 1 to the list!\n",
      "On the 2th level of the search tree!\n",
      "---Considering adding the 2 feature\n",
      "ACCURACY IS 0.684\n",
      "---Considering adding the 3 feature\n",
      "ACCURACY IS 0.71\n",
      "---Considering adding the 4 feature\n",
      "ACCURACY IS 0.716\n",
      "---Considering adding the 5 feature\n",
      "ACCURACY IS 0.688\n",
      "---Considering adding the 6 feature\n",
      "ACCURACY IS 0.744\n",
      "Added feature 6 to the list!\n",
      "On the 3th level of the search tree!\n",
      "---Considering adding the 2 feature\n",
      "ACCURACY IS 0.698\n",
      "---Considering adding the 3 feature\n",
      "ACCURACY IS 0.744\n",
      "---Considering adding the 4 feature\n",
      "ACCURACY IS 0.722\n",
      "---Considering adding the 5 feature\n",
      "ACCURACY IS 0.694\n",
      "Added feature 3 to the list!\n",
      "On the 4th level of the search tree!\n",
      "---Considering adding the 2 feature\n",
      "ACCURACY IS 0.668\n",
      "---Considering adding the 4 feature\n",
      "ACCURACY IS 0.724\n",
      "---Considering adding the 5 feature\n",
      "ACCURACY IS 0.73\n",
      "Added feature 5 to the list!\n",
      "On the 5th level of the search tree!\n",
      "---Considering adding the 2 feature\n",
      "ACCURACY IS 0.704\n",
      "---Considering adding the 4 feature\n",
      "ACCURACY IS 0.726\n",
      "Added feature 4 to the list!\n",
      "On the 6th level of the search tree!\n",
      "---Considering adding the 2 feature\n",
      "ACCURACY IS 0.716\n",
      "Added feature 2 to the list!\n"
     ]
    },
    {
     "data": {
      "text/plain": [
       "[[0.874, [1]],\n",
       " [0.744, [1, 6]],\n",
       " [0.744, [1, 6, 3]],\n",
       " [0.73, [1, 6, 3, 5]],\n",
       " [0.726, [1, 6, 3, 5, 4]],\n",
       " [0.716, [1, 6, 3, 5, 4, 2]]]"
      ]
     },
     "execution_count": 60,
     "metadata": {},
     "output_type": "execute_result"
    }
   ],
   "source": [
    "featureSearch(arr)\n"
   ]
  }
 ],
 "metadata": {
  "kernelspec": {
   "display_name": "Python 3.10.8 64-bit (microsoft store)",
   "language": "python",
   "name": "python3"
  },
  "language_info": {
   "codemirror_mode": {
    "name": "ipython",
    "version": 3
   },
   "file_extension": ".py",
   "mimetype": "text/x-python",
   "name": "python",
   "nbconvert_exporter": "python",
   "pygments_lexer": "ipython3",
   "version": "3.10.8"
  },
  "orig_nbformat": 4,
  "vscode": {
   "interpreter": {
    "hash": "570261371f82048913aaa696297941dca7d03b9870e8a707c6f09b55cdd21d3c"
   }
  }
 },
 "nbformat": 4,
 "nbformat_minor": 2
}
